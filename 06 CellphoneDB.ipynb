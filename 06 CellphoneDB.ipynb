{
 "cells": [
  {
   "cell_type": "code",
   "execution_count": null,
   "id": "e58f5e17",
   "metadata": {},
   "outputs": [],
   "source": [
    "rm(list=ls())"
   ]
  },
  {
   "cell_type": "code",
   "execution_count": 1,
   "id": "0d0da81e",
   "metadata": {},
   "outputs": [],
   "source": [
    "ls.str()"
   ]
  },
  {
   "cell_type": "markdown",
   "id": "2e785d20",
   "metadata": {},
   "source": [
    "# 1、生成CellphoneDB输入文件"
   ]
  },
  {
   "cell_type": "code",
   "execution_count": 2,
   "id": "615a665d",
   "metadata": {},
   "outputs": [
    {
     "name": "stderr",
     "output_type": "stream",
     "text": [
      "Attaching SeuratObject\n",
      "\n"
     ]
    }
   ],
   "source": [
    "library(Seurat)"
   ]
  },
  {
   "cell_type": "code",
   "execution_count": 3,
   "id": "f3060675",
   "metadata": {},
   "outputs": [],
   "source": [
    "sce <- readRDS('DF/pbmc.Rds')"
   ]
  },
  {
   "cell_type": "code",
   "execution_count": 7,
   "id": "c36fd4dc",
   "metadata": {},
   "outputs": [
    {
     "data": {
      "text/html": [
       "<table class=\"dataframe\">\n",
       "<caption>A data.frame: 6 × 30</caption>\n",
       "<thead>\n",
       "\t<tr><th></th><th scope=col>orig.ident</th><th scope=col>nCount_RNA</th><th scope=col>nFeature_RNA</th><th scope=col>percent.mt</th><th scope=col>RNA_snn_res.0.5</th><th scope=col>seurat_clusters</th><th scope=col>Patient</th><th scope=col>Source</th><th scope=col>pANN_0.25_0.005_489</th><th scope=col>DF</th><th scope=col>⋯</th><th scope=col>pANN_0.25_0.005_418</th><th scope=col>pANN_0.25_0.005_256</th><th scope=col>pANN_0.25_0.005_404</th><th scope=col>pANN_0.25_0.005_292</th><th scope=col>pANN_0.25_0.005_357</th><th scope=col>pANN_0.25_0.005_325</th><th scope=col>pANN_0.25_0.29_315</th><th scope=col>nCount_SCT</th><th scope=col>nFeature_SCT</th><th scope=col>SCT_snn_res.0.5</th></tr>\n",
       "\t<tr><th></th><th scope=col>&lt;chr&gt;</th><th scope=col>&lt;dbl&gt;</th><th scope=col>&lt;int&gt;</th><th scope=col>&lt;dbl&gt;</th><th scope=col>&lt;chr&gt;</th><th scope=col>&lt;fct&gt;</th><th scope=col>&lt;chr&gt;</th><th scope=col>&lt;chr&gt;</th><th scope=col>&lt;dbl&gt;</th><th scope=col>&lt;chr&gt;</th><th scope=col>⋯</th><th scope=col>&lt;dbl&gt;</th><th scope=col>&lt;dbl&gt;</th><th scope=col>&lt;dbl&gt;</th><th scope=col>&lt;dbl&gt;</th><th scope=col>&lt;dbl&gt;</th><th scope=col>&lt;dbl&gt;</th><th scope=col>&lt;dbl&gt;</th><th scope=col>&lt;dbl&gt;</th><th scope=col>&lt;int&gt;</th><th scope=col>&lt;fct&gt;</th></tr>\n",
       "</thead>\n",
       "<tbody>\n",
       "\t<tr><th scope=row>npc_1802_pbmc_ACGAGGACAAGCCGTC</th><td>npc</td><td>1291</td><td> 885</td><td> 3.950426</td><td>13</td><td>2</td><td>1802</td><td>PBMC</td><td>0.00000000</td><td>Singlet</td><td>⋯</td><td>NA</td><td>NA</td><td>NA</td><td>NA</td><td>NA</td><td>NA</td><td>NA</td><td>2754</td><td>1009</td><td>2</td></tr>\n",
       "\t<tr><th scope=row>npc_1802_pbmc_ACTATCTAGTCCATAC</th><td>npc</td><td>1618</td><td> 951</td><td> 9.270705</td><td>13</td><td>2</td><td>1802</td><td>PBMC</td><td>0.00000000</td><td>Singlet</td><td>⋯</td><td>NA</td><td>NA</td><td>NA</td><td>NA</td><td>NA</td><td>NA</td><td>NA</td><td>2807</td><td>1038</td><td>2</td></tr>\n",
       "\t<tr><th scope=row>npc_1802_pbmc_AGCGTCGAGAAGATTC</th><td>npc</td><td>1399</td><td> 934</td><td> 6.290207</td><td>13</td><td>2</td><td>1802</td><td>PBMC</td><td>0.01388889</td><td>Singlet</td><td>⋯</td><td>NA</td><td>NA</td><td>NA</td><td>NA</td><td>NA</td><td>NA</td><td>NA</td><td>2884</td><td>1019</td><td>2</td></tr>\n",
       "\t<tr><th scope=row>npc_1802_pbmc_AGCTTGACAAACCTAC</th><td>npc</td><td>1486</td><td> 981</td><td> 7.806191</td><td>13</td><td>3</td><td>1802</td><td>PBMC</td><td>0.01388889</td><td>Singlet</td><td>⋯</td><td>NA</td><td>NA</td><td>NA</td><td>NA</td><td>NA</td><td>NA</td><td>NA</td><td>2981</td><td>1073</td><td>3</td></tr>\n",
       "\t<tr><th scope=row>npc_1802_pbmc_CAAGTTGAGAGGTACC</th><td>npc</td><td>2423</td><td>1548</td><td> 4.250929</td><td>7 </td><td>2</td><td>1802</td><td>PBMC</td><td>0.06944444</td><td>Singlet</td><td>⋯</td><td>NA</td><td>NA</td><td>NA</td><td>NA</td><td>NA</td><td>NA</td><td>NA</td><td>2806</td><td>1556</td><td>2</td></tr>\n",
       "\t<tr><th scope=row>npc_1802_pbmc_CACTCCAAGAGACTTA</th><td>npc</td><td>2174</td><td>1214</td><td>14.397424</td><td>13</td><td>2</td><td>1802</td><td>PBMC</td><td>0.01388889</td><td>Singlet</td><td>⋯</td><td>NA</td><td>NA</td><td>NA</td><td>NA</td><td>NA</td><td>NA</td><td>NA</td><td>2817</td><td>1264</td><td>2</td></tr>\n",
       "</tbody>\n",
       "</table>\n"
      ],
      "text/latex": [
       "A data.frame: 6 × 30\n",
       "\\begin{tabular}{r|lllllllllllllllllllll}\n",
       "  & orig.ident & nCount\\_RNA & nFeature\\_RNA & percent.mt & RNA\\_snn\\_res.0.5 & seurat\\_clusters & Patient & Source & pANN\\_0.25\\_0.005\\_489 & DF & ⋯ & pANN\\_0.25\\_0.005\\_418 & pANN\\_0.25\\_0.005\\_256 & pANN\\_0.25\\_0.005\\_404 & pANN\\_0.25\\_0.005\\_292 & pANN\\_0.25\\_0.005\\_357 & pANN\\_0.25\\_0.005\\_325 & pANN\\_0.25\\_0.29\\_315 & nCount\\_SCT & nFeature\\_SCT & SCT\\_snn\\_res.0.5\\\\\n",
       "  & <chr> & <dbl> & <int> & <dbl> & <chr> & <fct> & <chr> & <chr> & <dbl> & <chr> & ⋯ & <dbl> & <dbl> & <dbl> & <dbl> & <dbl> & <dbl> & <dbl> & <dbl> & <int> & <fct>\\\\\n",
       "\\hline\n",
       "\tnpc\\_1802\\_pbmc\\_ACGAGGACAAGCCGTC & npc & 1291 &  885 &  3.950426 & 13 & 2 & 1802 & PBMC & 0.00000000 & Singlet & ⋯ & NA & NA & NA & NA & NA & NA & NA & 2754 & 1009 & 2\\\\\n",
       "\tnpc\\_1802\\_pbmc\\_ACTATCTAGTCCATAC & npc & 1618 &  951 &  9.270705 & 13 & 2 & 1802 & PBMC & 0.00000000 & Singlet & ⋯ & NA & NA & NA & NA & NA & NA & NA & 2807 & 1038 & 2\\\\\n",
       "\tnpc\\_1802\\_pbmc\\_AGCGTCGAGAAGATTC & npc & 1399 &  934 &  6.290207 & 13 & 2 & 1802 & PBMC & 0.01388889 & Singlet & ⋯ & NA & NA & NA & NA & NA & NA & NA & 2884 & 1019 & 2\\\\\n",
       "\tnpc\\_1802\\_pbmc\\_AGCTTGACAAACCTAC & npc & 1486 &  981 &  7.806191 & 13 & 3 & 1802 & PBMC & 0.01388889 & Singlet & ⋯ & NA & NA & NA & NA & NA & NA & NA & 2981 & 1073 & 3\\\\\n",
       "\tnpc\\_1802\\_pbmc\\_CAAGTTGAGAGGTACC & npc & 2423 & 1548 &  4.250929 & 7  & 2 & 1802 & PBMC & 0.06944444 & Singlet & ⋯ & NA & NA & NA & NA & NA & NA & NA & 2806 & 1556 & 2\\\\\n",
       "\tnpc\\_1802\\_pbmc\\_CACTCCAAGAGACTTA & npc & 2174 & 1214 & 14.397424 & 13 & 2 & 1802 & PBMC & 0.01388889 & Singlet & ⋯ & NA & NA & NA & NA & NA & NA & NA & 2817 & 1264 & 2\\\\\n",
       "\\end{tabular}\n"
      ],
      "text/markdown": [
       "\n",
       "A data.frame: 6 × 30\n",
       "\n",
       "| <!--/--> | orig.ident &lt;chr&gt; | nCount_RNA &lt;dbl&gt; | nFeature_RNA &lt;int&gt; | percent.mt &lt;dbl&gt; | RNA_snn_res.0.5 &lt;chr&gt; | seurat_clusters &lt;fct&gt; | Patient &lt;chr&gt; | Source &lt;chr&gt; | pANN_0.25_0.005_489 &lt;dbl&gt; | DF &lt;chr&gt; | ⋯ ⋯ | pANN_0.25_0.005_418 &lt;dbl&gt; | pANN_0.25_0.005_256 &lt;dbl&gt; | pANN_0.25_0.005_404 &lt;dbl&gt; | pANN_0.25_0.005_292 &lt;dbl&gt; | pANN_0.25_0.005_357 &lt;dbl&gt; | pANN_0.25_0.005_325 &lt;dbl&gt; | pANN_0.25_0.29_315 &lt;dbl&gt; | nCount_SCT &lt;dbl&gt; | nFeature_SCT &lt;int&gt; | SCT_snn_res.0.5 &lt;fct&gt; |\n",
       "|---|---|---|---|---|---|---|---|---|---|---|---|---|---|---|---|---|---|---|---|---|---|\n",
       "| npc_1802_pbmc_ACGAGGACAAGCCGTC | npc | 1291 |  885 |  3.950426 | 13 | 2 | 1802 | PBMC | 0.00000000 | Singlet | ⋯ | NA | NA | NA | NA | NA | NA | NA | 2754 | 1009 | 2 |\n",
       "| npc_1802_pbmc_ACTATCTAGTCCATAC | npc | 1618 |  951 |  9.270705 | 13 | 2 | 1802 | PBMC | 0.00000000 | Singlet | ⋯ | NA | NA | NA | NA | NA | NA | NA | 2807 | 1038 | 2 |\n",
       "| npc_1802_pbmc_AGCGTCGAGAAGATTC | npc | 1399 |  934 |  6.290207 | 13 | 2 | 1802 | PBMC | 0.01388889 | Singlet | ⋯ | NA | NA | NA | NA | NA | NA | NA | 2884 | 1019 | 2 |\n",
       "| npc_1802_pbmc_AGCTTGACAAACCTAC | npc | 1486 |  981 |  7.806191 | 13 | 3 | 1802 | PBMC | 0.01388889 | Singlet | ⋯ | NA | NA | NA | NA | NA | NA | NA | 2981 | 1073 | 3 |\n",
       "| npc_1802_pbmc_CAAGTTGAGAGGTACC | npc | 2423 | 1548 |  4.250929 | 7  | 2 | 1802 | PBMC | 0.06944444 | Singlet | ⋯ | NA | NA | NA | NA | NA | NA | NA | 2806 | 1556 | 2 |\n",
       "| npc_1802_pbmc_CACTCCAAGAGACTTA | npc | 2174 | 1214 | 14.397424 | 13 | 2 | 1802 | PBMC | 0.01388889 | Singlet | ⋯ | NA | NA | NA | NA | NA | NA | NA | 2817 | 1264 | 2 |\n",
       "\n"
      ],
      "text/plain": [
       "                               orig.ident nCount_RNA nFeature_RNA percent.mt\n",
       "npc_1802_pbmc_ACGAGGACAAGCCGTC npc        1291        885          3.950426 \n",
       "npc_1802_pbmc_ACTATCTAGTCCATAC npc        1618        951          9.270705 \n",
       "npc_1802_pbmc_AGCGTCGAGAAGATTC npc        1399        934          6.290207 \n",
       "npc_1802_pbmc_AGCTTGACAAACCTAC npc        1486        981          7.806191 \n",
       "npc_1802_pbmc_CAAGTTGAGAGGTACC npc        2423       1548          4.250929 \n",
       "npc_1802_pbmc_CACTCCAAGAGACTTA npc        2174       1214         14.397424 \n",
       "                               RNA_snn_res.0.5 seurat_clusters Patient Source\n",
       "npc_1802_pbmc_ACGAGGACAAGCCGTC 13              2               1802    PBMC  \n",
       "npc_1802_pbmc_ACTATCTAGTCCATAC 13              2               1802    PBMC  \n",
       "npc_1802_pbmc_AGCGTCGAGAAGATTC 13              2               1802    PBMC  \n",
       "npc_1802_pbmc_AGCTTGACAAACCTAC 13              3               1802    PBMC  \n",
       "npc_1802_pbmc_CAAGTTGAGAGGTACC 7               2               1802    PBMC  \n",
       "npc_1802_pbmc_CACTCCAAGAGACTTA 13              2               1802    PBMC  \n",
       "                               pANN_0.25_0.005_489 DF      ⋯\n",
       "npc_1802_pbmc_ACGAGGACAAGCCGTC 0.00000000          Singlet ⋯\n",
       "npc_1802_pbmc_ACTATCTAGTCCATAC 0.00000000          Singlet ⋯\n",
       "npc_1802_pbmc_AGCGTCGAGAAGATTC 0.01388889          Singlet ⋯\n",
       "npc_1802_pbmc_AGCTTGACAAACCTAC 0.01388889          Singlet ⋯\n",
       "npc_1802_pbmc_CAAGTTGAGAGGTACC 0.06944444          Singlet ⋯\n",
       "npc_1802_pbmc_CACTCCAAGAGACTTA 0.01388889          Singlet ⋯\n",
       "                               pANN_0.25_0.005_418 pANN_0.25_0.005_256\n",
       "npc_1802_pbmc_ACGAGGACAAGCCGTC NA                  NA                 \n",
       "npc_1802_pbmc_ACTATCTAGTCCATAC NA                  NA                 \n",
       "npc_1802_pbmc_AGCGTCGAGAAGATTC NA                  NA                 \n",
       "npc_1802_pbmc_AGCTTGACAAACCTAC NA                  NA                 \n",
       "npc_1802_pbmc_CAAGTTGAGAGGTACC NA                  NA                 \n",
       "npc_1802_pbmc_CACTCCAAGAGACTTA NA                  NA                 \n",
       "                               pANN_0.25_0.005_404 pANN_0.25_0.005_292\n",
       "npc_1802_pbmc_ACGAGGACAAGCCGTC NA                  NA                 \n",
       "npc_1802_pbmc_ACTATCTAGTCCATAC NA                  NA                 \n",
       "npc_1802_pbmc_AGCGTCGAGAAGATTC NA                  NA                 \n",
       "npc_1802_pbmc_AGCTTGACAAACCTAC NA                  NA                 \n",
       "npc_1802_pbmc_CAAGTTGAGAGGTACC NA                  NA                 \n",
       "npc_1802_pbmc_CACTCCAAGAGACTTA NA                  NA                 \n",
       "                               pANN_0.25_0.005_357 pANN_0.25_0.005_325\n",
       "npc_1802_pbmc_ACGAGGACAAGCCGTC NA                  NA                 \n",
       "npc_1802_pbmc_ACTATCTAGTCCATAC NA                  NA                 \n",
       "npc_1802_pbmc_AGCGTCGAGAAGATTC NA                  NA                 \n",
       "npc_1802_pbmc_AGCTTGACAAACCTAC NA                  NA                 \n",
       "npc_1802_pbmc_CAAGTTGAGAGGTACC NA                  NA                 \n",
       "npc_1802_pbmc_CACTCCAAGAGACTTA NA                  NA                 \n",
       "                               pANN_0.25_0.29_315 nCount_SCT nFeature_SCT\n",
       "npc_1802_pbmc_ACGAGGACAAGCCGTC NA                 2754       1009        \n",
       "npc_1802_pbmc_ACTATCTAGTCCATAC NA                 2807       1038        \n",
       "npc_1802_pbmc_AGCGTCGAGAAGATTC NA                 2884       1019        \n",
       "npc_1802_pbmc_AGCTTGACAAACCTAC NA                 2981       1073        \n",
       "npc_1802_pbmc_CAAGTTGAGAGGTACC NA                 2806       1556        \n",
       "npc_1802_pbmc_CACTCCAAGAGACTTA NA                 2817       1264        \n",
       "                               SCT_snn_res.0.5\n",
       "npc_1802_pbmc_ACGAGGACAAGCCGTC 2              \n",
       "npc_1802_pbmc_ACTATCTAGTCCATAC 2              \n",
       "npc_1802_pbmc_AGCGTCGAGAAGATTC 2              \n",
       "npc_1802_pbmc_AGCTTGACAAACCTAC 3              \n",
       "npc_1802_pbmc_CAAGTTGAGAGGTACC 2              \n",
       "npc_1802_pbmc_CACTCCAAGAGACTTA 2              "
      ]
     },
     "metadata": {},
     "output_type": "display_data"
    }
   ],
   "source": [
    "head(sce@meta.data)"
   ]
  },
  {
   "cell_type": "code",
   "execution_count": null,
   "id": "787f82e8",
   "metadata": {},
   "outputs": [],
   "source": []
  },
  {
   "cell_type": "code",
   "execution_count": null,
   "id": "1e61ddc2",
   "metadata": {},
   "outputs": [],
   "source": []
  },
  {
   "cell_type": "markdown",
   "id": "e63cb5c3",
   "metadata": {},
   "source": [
    "# 2、命令行运行CellphoneDB"
   ]
  },
  {
   "cell_type": "code",
   "execution_count": null,
   "id": "b9cbe966",
   "metadata": {},
   "outputs": [],
   "source": []
  },
  {
   "cell_type": "code",
   "execution_count": null,
   "id": "b0b449d1",
   "metadata": {},
   "outputs": [],
   "source": []
  },
  {
   "cell_type": "code",
   "execution_count": null,
   "id": "044c6ed7",
   "metadata": {},
   "outputs": [],
   "source": []
  },
  {
   "cell_type": "code",
   "execution_count": null,
   "id": "718e74d3",
   "metadata": {},
   "outputs": [],
   "source": []
  },
  {
   "cell_type": "markdown",
   "id": "056e0c2f",
   "metadata": {},
   "source": [
    "# 3、可视化\n",
    "## （1）互作关系气泡图"
   ]
  },
  {
   "cell_type": "code",
   "execution_count": null,
   "id": "d7db38d6",
   "metadata": {},
   "outputs": [],
   "source": []
  },
  {
   "cell_type": "code",
   "execution_count": null,
   "id": "b948f927",
   "metadata": {},
   "outputs": [],
   "source": []
  },
  {
   "cell_type": "code",
   "execution_count": null,
   "id": "25cc6af8",
   "metadata": {},
   "outputs": [],
   "source": []
  },
  {
   "cell_type": "code",
   "execution_count": null,
   "id": "1f5e22c0",
   "metadata": {},
   "outputs": [],
   "source": []
  },
  {
   "cell_type": "markdown",
   "id": "7794d275",
   "metadata": {},
   "source": [
    "## （2）热图"
   ]
  },
  {
   "cell_type": "code",
   "execution_count": null,
   "id": "2ba35c41",
   "metadata": {},
   "outputs": [],
   "source": []
  },
  {
   "cell_type": "code",
   "execution_count": null,
   "id": "e01a50fe",
   "metadata": {},
   "outputs": [],
   "source": []
  },
  {
   "cell_type": "code",
   "execution_count": null,
   "id": "dfe31812",
   "metadata": {},
   "outputs": [],
   "source": []
  }
 ],
 "metadata": {
  "kernelspec": {
   "display_name": "R",
   "language": "R",
   "name": "ir"
  },
  "language_info": {
   "codemirror_mode": "r",
   "file_extension": ".r",
   "mimetype": "text/x-r-source",
   "name": "R",
   "pygments_lexer": "r",
   "version": "4.1.1"
  }
 },
 "nbformat": 4,
 "nbformat_minor": 5
}
