{
 "cells": [
  {
   "cell_type": "code",
   "execution_count": 4,
   "id": "cdace308",
   "metadata": {},
   "outputs": [
    {
     "name": "stderr",
     "output_type": "stream",
     "text": [
      "Attaching SeuratObject\n",
      "\n"
     ]
    }
   ],
   "source": [
    "library(Seurat)\n",
    "library(sctransform)\n",
    "suppressPackageStartupMessages(library(tidyverse))\n",
    "suppressPackageStartupMessages(library(data.table))\n",
    "library(DoubletFinder)"
   ]
  },
  {
   "cell_type": "code",
   "execution_count": 12,
   "id": "a6918ae2",
   "metadata": {},
   "outputs": [],
   "source": [
    "library(future)\n",
    "library(future.apply)\n",
    "plan(\"multicore\", workers = 8) \n",
    "options(future.globals.maxSize = 100 * 1024^3)"
   ]
  },
  {
   "cell_type": "code",
   "execution_count": 7,
   "id": "74e3c5f4",
   "metadata": {},
   "outputs": [],
   "source": [
    "rawdir <- paste0(getwd(), '/data/')\n",
    "tmpdir <- paste0(getwd(), '/tmp/')"
   ]
  },
  {
   "cell_type": "code",
   "execution_count": 8,
   "id": "b01cc7b4",
   "metadata": {},
   "outputs": [
    {
     "data": {
      "text/html": [
       "<style>\n",
       ".list-inline {list-style: none; margin:0; padding: 0}\n",
       ".list-inline>li {display: inline-block}\n",
       ".list-inline>li:not(:last-child)::after {content: \"\\00b7\"; padding: 0 .5ex}\n",
       "</style>\n",
       "<ol class=list-inline><li>'GSM4929845_NPC_SC_1802_PBMC_count.csv.gz'</li><li>'GSM4929846_NPC_SC_1802_Tumor_count.csv.gz'</li><li>'GSM4929847_NPC_SC_1805_PBMC_count.csv.gz'</li><li>'GSM4929848_NPC_SC_1805_Tumor_count.csv.gz'</li><li>'GSM4929849_NPC_SC_1806_PBMC_count.csv.gz'</li><li>'GSM4929850_NPC_SC_1806_Tumor_count.csv.gz'</li><li>'GSM4929851_NPC_SC_1807_PBMC_count.csv.gz'</li><li>'GSM4929852_NPC_SC_1807_Tumor_count.csv.gz'</li><li>'GSM4929853_NPC_SC_1808_PBMC_count.csv.gz'</li><li>'GSM4929854_NPC_SC_1808_Tumor_count.csv.gz'</li><li>'GSM4929855_NPC_SC_1810_PBMC_count.csv.gz'</li><li>'GSM4929856_NPC_SC_1810_Tumor_count.csv.gz'</li><li>'GSM4929857_NPC_SC_1811_PBMC_count.csv.gz'</li><li>'GSM4929858_NPC_SC_1811_Tumor_count.csv.gz'</li><li>'GSM4929859_NPC_SC_1813_PBMC_count.csv.gz'</li><li>'GSM4929860_NPC_SC_1813_Tumor_count.csv.gz'</li><li>'GSM4929861_NPC_SC_1815_PBMC_count.csv.gz'</li><li>'GSM4929862_NPC_SC_1815_Tumor_count.csv.gz'</li><li>'GSM4929863_NPC_SC_1816_PBMC_count.csv.gz'</li><li>'GSM4929864_NPC_SC_1816_Tumor_count.csv.gz'</li></ol>\n"
      ],
      "text/latex": [
       "\\begin{enumerate*}\n",
       "\\item 'GSM4929845\\_NPC\\_SC\\_1802\\_PBMC\\_count.csv.gz'\n",
       "\\item 'GSM4929846\\_NPC\\_SC\\_1802\\_Tumor\\_count.csv.gz'\n",
       "\\item 'GSM4929847\\_NPC\\_SC\\_1805\\_PBMC\\_count.csv.gz'\n",
       "\\item 'GSM4929848\\_NPC\\_SC\\_1805\\_Tumor\\_count.csv.gz'\n",
       "\\item 'GSM4929849\\_NPC\\_SC\\_1806\\_PBMC\\_count.csv.gz'\n",
       "\\item 'GSM4929850\\_NPC\\_SC\\_1806\\_Tumor\\_count.csv.gz'\n",
       "\\item 'GSM4929851\\_NPC\\_SC\\_1807\\_PBMC\\_count.csv.gz'\n",
       "\\item 'GSM4929852\\_NPC\\_SC\\_1807\\_Tumor\\_count.csv.gz'\n",
       "\\item 'GSM4929853\\_NPC\\_SC\\_1808\\_PBMC\\_count.csv.gz'\n",
       "\\item 'GSM4929854\\_NPC\\_SC\\_1808\\_Tumor\\_count.csv.gz'\n",
       "\\item 'GSM4929855\\_NPC\\_SC\\_1810\\_PBMC\\_count.csv.gz'\n",
       "\\item 'GSM4929856\\_NPC\\_SC\\_1810\\_Tumor\\_count.csv.gz'\n",
       "\\item 'GSM4929857\\_NPC\\_SC\\_1811\\_PBMC\\_count.csv.gz'\n",
       "\\item 'GSM4929858\\_NPC\\_SC\\_1811\\_Tumor\\_count.csv.gz'\n",
       "\\item 'GSM4929859\\_NPC\\_SC\\_1813\\_PBMC\\_count.csv.gz'\n",
       "\\item 'GSM4929860\\_NPC\\_SC\\_1813\\_Tumor\\_count.csv.gz'\n",
       "\\item 'GSM4929861\\_NPC\\_SC\\_1815\\_PBMC\\_count.csv.gz'\n",
       "\\item 'GSM4929862\\_NPC\\_SC\\_1815\\_Tumor\\_count.csv.gz'\n",
       "\\item 'GSM4929863\\_NPC\\_SC\\_1816\\_PBMC\\_count.csv.gz'\n",
       "\\item 'GSM4929864\\_NPC\\_SC\\_1816\\_Tumor\\_count.csv.gz'\n",
       "\\end{enumerate*}\n"
      ],
      "text/markdown": [
       "1. 'GSM4929845_NPC_SC_1802_PBMC_count.csv.gz'\n",
       "2. 'GSM4929846_NPC_SC_1802_Tumor_count.csv.gz'\n",
       "3. 'GSM4929847_NPC_SC_1805_PBMC_count.csv.gz'\n",
       "4. 'GSM4929848_NPC_SC_1805_Tumor_count.csv.gz'\n",
       "5. 'GSM4929849_NPC_SC_1806_PBMC_count.csv.gz'\n",
       "6. 'GSM4929850_NPC_SC_1806_Tumor_count.csv.gz'\n",
       "7. 'GSM4929851_NPC_SC_1807_PBMC_count.csv.gz'\n",
       "8. 'GSM4929852_NPC_SC_1807_Tumor_count.csv.gz'\n",
       "9. 'GSM4929853_NPC_SC_1808_PBMC_count.csv.gz'\n",
       "10. 'GSM4929854_NPC_SC_1808_Tumor_count.csv.gz'\n",
       "11. 'GSM4929855_NPC_SC_1810_PBMC_count.csv.gz'\n",
       "12. 'GSM4929856_NPC_SC_1810_Tumor_count.csv.gz'\n",
       "13. 'GSM4929857_NPC_SC_1811_PBMC_count.csv.gz'\n",
       "14. 'GSM4929858_NPC_SC_1811_Tumor_count.csv.gz'\n",
       "15. 'GSM4929859_NPC_SC_1813_PBMC_count.csv.gz'\n",
       "16. 'GSM4929860_NPC_SC_1813_Tumor_count.csv.gz'\n",
       "17. 'GSM4929861_NPC_SC_1815_PBMC_count.csv.gz'\n",
       "18. 'GSM4929862_NPC_SC_1815_Tumor_count.csv.gz'\n",
       "19. 'GSM4929863_NPC_SC_1816_PBMC_count.csv.gz'\n",
       "20. 'GSM4929864_NPC_SC_1816_Tumor_count.csv.gz'\n",
       "\n",
       "\n"
      ],
      "text/plain": [
       " [1] \"GSM4929845_NPC_SC_1802_PBMC_count.csv.gz\" \n",
       " [2] \"GSM4929846_NPC_SC_1802_Tumor_count.csv.gz\"\n",
       " [3] \"GSM4929847_NPC_SC_1805_PBMC_count.csv.gz\" \n",
       " [4] \"GSM4929848_NPC_SC_1805_Tumor_count.csv.gz\"\n",
       " [5] \"GSM4929849_NPC_SC_1806_PBMC_count.csv.gz\" \n",
       " [6] \"GSM4929850_NPC_SC_1806_Tumor_count.csv.gz\"\n",
       " [7] \"GSM4929851_NPC_SC_1807_PBMC_count.csv.gz\" \n",
       " [8] \"GSM4929852_NPC_SC_1807_Tumor_count.csv.gz\"\n",
       " [9] \"GSM4929853_NPC_SC_1808_PBMC_count.csv.gz\" \n",
       "[10] \"GSM4929854_NPC_SC_1808_Tumor_count.csv.gz\"\n",
       "[11] \"GSM4929855_NPC_SC_1810_PBMC_count.csv.gz\" \n",
       "[12] \"GSM4929856_NPC_SC_1810_Tumor_count.csv.gz\"\n",
       "[13] \"GSM4929857_NPC_SC_1811_PBMC_count.csv.gz\" \n",
       "[14] \"GSM4929858_NPC_SC_1811_Tumor_count.csv.gz\"\n",
       "[15] \"GSM4929859_NPC_SC_1813_PBMC_count.csv.gz\" \n",
       "[16] \"GSM4929860_NPC_SC_1813_Tumor_count.csv.gz\"\n",
       "[17] \"GSM4929861_NPC_SC_1815_PBMC_count.csv.gz\" \n",
       "[18] \"GSM4929862_NPC_SC_1815_Tumor_count.csv.gz\"\n",
       "[19] \"GSM4929863_NPC_SC_1816_PBMC_count.csv.gz\" \n",
       "[20] \"GSM4929864_NPC_SC_1816_Tumor_count.csv.gz\""
      ]
     },
     "metadata": {},
     "output_type": "display_data"
    }
   ],
   "source": [
    "samples <- list.files(rawdir)\n",
    "samples"
   ]
  },
  {
   "cell_type": "code",
   "execution_count": 19,
   "id": "ab59fabf",
   "metadata": {},
   "outputs": [],
   "source": [
    "## 批量导入数据，识别Doublet\n",
    "starttime <- Sys.time()\n",
    "slist <- future_lapply(samples, function(i){\n",
    "  idir <- file.path(rawdir, i)\n",
    "  a <- fread(idir, data.table = F) %>% column_to_rownames('V1')\n",
    "  idat <- CreateSeuratObject(counts = a, min.cells = 3, min.features = 500, project = strsplit(i,'[.]')[[1]][1])\n",
    "  idat[[\"percent.mt\"]] <- PercentageFeatureSet(idat, pattern = \"^MT-\")\n",
    "  idat <- subset(idat, subset = nFeature_RNA > 200 & nFeature_RNA < 25000 & percent.mt < 25 & nCount_RNA > 1000 & nCount_RNA < 500000)\n",
    "  \n",
    "  idat@meta.data$orig.ident <- paste(strsplit((idat@project.name),\"_\")[[1]][c(4,5)], collapse = '_')\n",
    "  idat@meta.data$Patient <- strsplit((idat@project.name),\"_\")[[1]][4]\n",
    "  idat@meta.data$Source <- strsplit((idat@project.name),\"_\")[[1]][5]\n",
    "  idat@meta.data$barcode <- rownames(idat@meta.data)\n",
    "  \n",
    "  idat <- SCTransform(idat, method = \"glmGamPoi\", vars.to.regress = c(\"percent.mt\"), verbose = F)\n",
    "  idat <- RunPCA(idat, features = VariableFeatures(object = idat), verbose = F)\n",
    "  pc.num = 1:30\n",
    "  idat <- FindNeighbors(idat, dims = pc.num, verbose = F)\n",
    "  idat <- FindClusters(idat, resolution = 0.5, verbose = F)\n",
    "  idat <- RunTSNE(idat, dims = pc.num, reduction = \"pca\")\n",
    "  # idat <- RunUMAP(idat, dims = pc.num, verbose = F)\n",
    "  \n",
    "  # 寻找最优pK值\n",
    "  idat_db <- idat  # 用新变量跑DoubletFinder\n",
    "  sweep.res.list_idat <- paramSweep_v3(idat_db, PCs = pc.num, sct = TRUE)\n",
    "  sweep.stats_idat<- summarizeSweep(sweep.res.list_idat, GT = F)\n",
    "  bcmvn_idat <- find.pK(sweep.stats_idat)\n",
    "  pK_bcmvn <- bcmvn_idat$pK[which.max(bcmvn_idat$BCmetric)] %>% as.character() %>% as.numeric()\n",
    "  \n",
    "  # 排除不能检出的同源doublets，优化期望的doublets数量\n",
    "  DoubletRate = 0.05    # 5000细胞对应的doublets rate是3.9%，见https://cloud.tencent.com/developer/article/1825672\n",
    "  homotypic.prop <- modelHomotypic(idat_db@meta.data$seurat_clusters)   # 最好提供celltype（注释之后的？）\n",
    "  nExp_poi <- round(DoubletRate*ncol(idat_db))\n",
    "  nExp_poi.adj <- round(nExp_poi*(1-homotypic.prop))\n",
    "  \n",
    "  idat_db <- doubletFinder_v3(idat_db, PCs = pc.num, pN = 0.25, pK = pK_bcmvn, nExp = nExp_poi.adj, reuse.pANN = F, sct = TRUE)\n",
    "  colnames(idat_db@meta.data)[grep('^DF',colnames(idat_db@meta.data))] <- \"DF\"\n",
    "  \n",
    "  idat$doublets <- idat_db$DF\n",
    "  idat\n",
    "})\n",
    "endtime <- Sys.time()\n",
    "endtime-starttime"
   ]
  },
  {
   "cell_type": "code",
   "execution_count": null,
   "id": "141f8c15",
   "metadata": {},
   "outputs": [],
   "source": [
    "## 保存slist\n",
    "saveRDS(slist, file = paste0(tmpdir, 'slist_sct_DF.Rds'))"
   ]
  },
  {
   "cell_type": "code",
   "execution_count": null,
   "id": "593a7b6d",
   "metadata": {},
   "outputs": [],
   "source": [
    "## 删除doublet\n",
    "for (i in 1:length(slist)){\n",
    "  slist[[i]] <- subset(slist[[i]], doublets == \"Singlet\")\n",
    "}"
   ]
  },
  {
   "cell_type": "code",
   "execution_count": null,
   "id": "33e36f52",
   "metadata": {},
   "outputs": [],
   "source": [
    "## 数据集整合（RPCA）\n",
    "slist <- future_lapply(slist, SCTransform, method = \"glmGamPoi\")\n",
    "features <- SelectIntegrationFeatures(slist, nfeatures = 3000)\n",
    "slist <- PrepSCTIntegration(slist, anchor.features = features)\n",
    "slist <- future_lapply(slist, RunPCA, features = features)\n",
    "\n",
    "anchors <- FindIntegrationAnchors(slist, normalization.method = \"SCT\", reduction = \"rpca\",\n",
    "                                  anchor.features = features, dims = 1:30, k.anchor = 20)\n",
    "sce <- IntegrateData(anchors, normalization.method = \"SCT\", dims = 1:30)"
   ]
  },
  {
   "cell_type": "code",
   "execution_count": null,
   "id": "2c776d8e",
   "metadata": {},
   "outputs": [],
   "source": [
    "sce <- RunPCA(sce, verbose = F)\n",
    "sce <- RunUMAP(sce, reduction = \"pca\", dims = 1:30)\n",
    "sce <- FindNeighbors(sce, reduction = \"pca\", dims = 1:30)\n",
    "sce <- FindClusters(sce, resolution = 1)"
   ]
  },
  {
   "cell_type": "code",
   "execution_count": null,
   "id": "bd46db40",
   "metadata": {},
   "outputs": [],
   "source": [
    "## 保存sce\n",
    "saveRDS(sce, file = paste0(tmpdir, 'sce_sct_rpca.Rds'))"
   ]
  },
  {
   "cell_type": "code",
   "execution_count": null,
   "id": "d51a160c",
   "metadata": {},
   "outputs": [],
   "source": [
    "## 手动亚群注释\n",
    "genes_to_check <- c('PTPRC', 'CD3D', 'CD3E','CD4', 'CD8A','FOXP3',  # Tcells\n",
    "                    'CD19', 'CD79A', 'MS4A1' ,  # B cells\n",
    "                    'FCGR3A', 'NCAM1',  # NK cells\n",
    "                    'CD14',  'ITGAX',  # myeloid\n",
    "                    'CD68',  'CD163',  # Mo/Mφ\n",
    "                    'FGF7', 'MME','PECAM1', 'VWF',  # Fibroblasts, Endothelial\n",
    "                    'EPCAM', 'KRT5'  # malignant\n",
    "                    )\n",
    "DotPlot(sce, features = unique(genes_to_check)) + coord_flip()"
   ]
  },
  {
   "cell_type": "code",
   "execution_count": null,
   "id": "f104dcd9",
   "metadata": {},
   "outputs": [],
   "source": [
    "cluster2celltype <- data.frame(cluster=levels(sce@meta.data$seurat_clusters), celltype='unknown')\n",
    "cluster2celltype[cluster2celltype$cluster %in% c(0,3,8,10,11,14,20:22,26,28,32,34,35),2] <- 'CD8+T'\n",
    "cluster2celltype[cluster2celltype$cluster %in% c(1,2,4,6,13,16,27,30,31,33),2] <- 'CD4+T'\n",
    "cluster2celltype[cluster2celltype$cluster %in% c(5,9,12,23),2] <- 'NK'\n",
    "cluster2celltype[cluster2celltype$cluster %in% c(7,15,17,18,29),2] <- 'Bcell'\n",
    "cluster2celltype[cluster2celltype$cluster %in% c(19,25),2] <- 'Myeloid'\n",
    "cluster2celltype[cluster2celltype$cluster %in% c(24),2] <- 'Malignant'\n",
    "# cluster2celltype"
   ]
  },
  {
   "cell_type": "code",
   "execution_count": null,
   "id": "b5ec97fa",
   "metadata": {},
   "outputs": [],
   "source": []
  }
 ],
 "metadata": {
  "kernelspec": {
   "display_name": "R",
   "language": "R",
   "name": "ir"
  },
  "language_info": {
   "codemirror_mode": "r",
   "file_extension": ".r",
   "mimetype": "text/x-r-source",
   "name": "R",
   "pygments_lexer": "r",
   "version": "4.1.1"
  }
 },
 "nbformat": 4,
 "nbformat_minor": 5
}
